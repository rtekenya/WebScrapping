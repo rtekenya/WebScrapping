{
 "cells": [
  {
   "cell_type": "markdown",
   "id": "b63659c2",
   "metadata": {},
   "source": [
    "## Importing neccessary  libraries"
   ]
  },
  {
   "cell_type": "code",
   "execution_count": 1,
   "id": "9cfed754",
   "metadata": {},
   "outputs": [],
   "source": [
    "from bs4 import BeautifulSoup\n",
    "import requests\n",
    "from csv import writer"
   ]
  },
  {
   "cell_type": "markdown",
   "id": "99733f54",
   "metadata": {},
   "source": [
    "## Request the site and put it through BeautifulSoup"
   ]
  },
  {
   "cell_type": "code",
   "execution_count": 2,
   "id": "f9cbed6f",
   "metadata": {},
   "outputs": [],
   "source": [
    "url= \"https://www.everyshop.co.za/catalogsearch/result/?q=ipad\"\n",
    "page = requests.get(url)\n",
    "\n",
    "soup = BeautifulSoup(page.content, 'html.parser')"
   ]
  },
  {
   "cell_type": "markdown",
   "id": "0b34b7ef",
   "metadata": {},
   "source": [
    "## Scrapping for the items we need then saving it as a csv file"
   ]
  },
  {
   "cell_type": "code",
   "execution_count": 3,
   "id": "57770366",
   "metadata": {},
   "outputs": [
    {
     "name": "stdout",
     "output_type": "stream",
     "text": [
      "['Apple iPad Mini 5th Gen Wifi 64GB Silver', 'R6,399']\n",
      "['Apple iPad Mini 5th Gen Wifi 256GB Space Grey', 'R8,999']\n",
      "['Apple iPad Mini 5th Gen Wifi 256GB Silver', 'R8,999']\n",
      "['Apple Smart Keyboard for iPad 7th gen and iPad Air 3rd gen Int English', 'R2,999']\n",
      "['Targus Click-In™ 10.2-inch, iPad Air® 10.5-inch, and iPad P', 'R799']\n",
      "['Apple iPad Air 4th Gen WiFi 256GB Silver', 'R13,499']\n",
      "['Apple iPad Air 4th Gen WiFi 256GB Green', 'R13,499']\n",
      "['Apple iPad 8th Gen WiFi Cellular 32GB Silver', 'R7,599']\n",
      "['Apple iPad Air 4th Gen WiFi Cellular 64GB Rose Gold', 'R12,999']\n",
      "['Apple iPad Air 4th Gen WiFi Cellular 64GB Sky Blue', 'R12,999']\n",
      "['Apple iPad Air 4th Gen WiFi Cellular 64GB Silver', 'R12,999']\n",
      "['Apple iPad Air 4th Gen WiFi Cellular 256GB Sky Blue', 'R15,499']\n",
      "['Apple iPad Air 4th Gen WiFi Cellular 64GB Green', 'R12,999']\n",
      "['Apple iPad Air 4th Gen WiFi Cellular 64GB Space Grey', 'R12,999']\n",
      "['Apple iPad 8th Gen WiFi Cellular 32GB Gold', 'R7,599']\n",
      "['Apple iPad Air 4th Gen WiFi Cellular 256GB Silver', 'R15,499']\n",
      "['Apple iPad Pro 12.9 inch Wi‑Fi 256GB Silver', 'R21,499']\n",
      "['Apple iPad Pro 12.9 inch Wi‑Fi & Cellular 2TB Silver', 'R40,999']\n",
      "['Apple iPad Pro 12.9 inch Wi‑Fi 2TB Space Grey', 'R38,999']\n",
      "['Apple iPad Pro 12.9 inch Wi‑Fi 512GB Silver', 'R24,999']\n",
      "['Apple iPad Pro 12.9 inch Wi‑Fi & Cellular 256GB Space Grey', 'R23,999']\n",
      "['BG iPad 10.2 10.5 BT Touchpad Keybrd Bk', 'R1,399']\n",
      "['Apple iPad Pro 12.9 inch Wi‑Fi & Cellular 128GB Space Grey', 'R21,999']\n",
      "['Apple iPad Pro 12.9 inch Wi‑Fi 128GB Silver', 'R19,499']\n",
      "['Apple iPad Pro 12.9 inch Wi‑Fi & Cellular 512GB Silver', 'R27,499']\n",
      "['Apple iPad Pro 11 inch Wi‑Fi 1TB Silver', 'R26,999']\n",
      "['Apple iPad Pro 12.9 inch Wi‑Fi & Cellular 512GB Space Grey', 'R27,499']\n",
      "['Apple iPad Pro 11 inch Wi‑Fi 2TB Space Grey', 'R33,999']\n",
      "['Body Glove Apple iPad Pro 11 Tempered Glass Screenguard Clear', 'R499']\n",
      "['Body Glove Apple iPad 10.2 Air 19 Pro 10.5 Bluetooth Keyboard Black', 'R1,199']\n",
      "['Apple iPad Pro 11 inch Wi‑Fi & Cellular 128GB Silver', 'R16,999']\n",
      "['Apple iPad Pro 11 Inch Wi‑Fi & Cellular 1TB Space Grey', 'R28,999']\n",
      "['Apple iPad Pro 11 Inch Wi‑Fi & Cellular 1TB Silver', 'R28,999']\n",
      "['Body Glove Apple iPad Pro 11 Inch 2021 Bluetooth Touchpad Keyboard Black', 'R1,499']\n",
      "['Speck Apple iPad 10.2 Balance Folio Black', 'R899']\n",
      "['Body Glove Apple iPad 10.2 Smartsuit Black', 'R599']\n",
      "['Body Glove iPad Air Tempered Glass Screenguard', 'R499']\n",
      "['Body Glove Apple iPad 10.2 Air 19 Pro 10.5 Tempered Glass Screenguard', 'R499']\n",
      "['Apple iPad Pro 12.9 inch Wi‑Fi & Cellular 1TB Space Grey', 'R33,999']\n",
      "['Apple iPad Pro 11 inch Wi‑Fi 2TB Silver', 'R33,999']\n",
      "['Apple iPad Pro 12.9 inch Wi‑Fi & Cellular 1TB Silver', 'R33,999']\n",
      "['Apple iPad Pro 11 inch Wi‑Fi 1TB Space Grey', 'R26,999']\n",
      "['Apple iPad Pro 12.9 inch Wi‑Fi & Cellular 256GB Silver', 'R23,999']\n",
      "['Apple iPad Pro 11 Inch Wi‑Fi & Cellular 2TB Silver', 'R35,999']\n",
      "['Apple iPad Pro 11 Inch Wi‑Fi & Cellular 2TB Space Grey', 'R35,999']\n",
      "['Apple iPad Mini 6 Wi-Fi + Cellular 64GB Space Grey', 'R11,699']\n",
      "['Apple iPad 10.2 9th Wi-Fi + Cellular 256GB Silver', 'R11,199']\n",
      "['Apple iPad 10.2 9th Gen Wi-Fi 256GB Silver', 'R8,799']\n",
      "['Apple iPad 10.2 9th Gen Wi-Fi + Cellular 64GB Space Grey', 'R8,399']\n",
      "['Apple iPad 10.2 9th Gen Wi-Fi 64GB Silver', 'R5,999']\n",
      "['Apple iPad 10.2 9th Gen Wi-Fi 64GB Space Grey', 'R5,999']\n",
      "['Apple AirTag 1 Pack', 'R499']\n",
      "['Apple 13Inch MacBook Pro Touch Bar 2.0GHz Quad Core i5 1TB Silver 2020', 'R39,699']\n",
      "['Apple 20W USB C Power Adapter', 'R20']\n",
      "['Apple 13 Inch MacBook Pro Touch Bar 2.0GHz Quad Core i5 1TB Space Grey 2020', 'R35,199']\n",
      "['EVERKI EKB419 FLIGHT BRIEFCASE 16-inch', 'R1,499']\n",
      "['HP OfficeJet Pro 7740 Wide Format AIO', 'R4,999']\n",
      "['Apple AirTag 4 Pack', 'R1,899']\n",
      "['Samsung 70-inch 4K Smart UHD TV (70TU7000)', 'R19,999']\n",
      "['Apple Pencil MK0C2ZM-A', 'R1,899']\n"
     ]
    }
   ],
   "source": [
    "lists = soup.find_all('li', class_=\"item product product-item\")\n",
    "\n",
    "with open('ipad_everyshop.csv', 'w', encoding='utf8', newline='') as f:\n",
    "    thewriter = writer(f)\n",
    "    header = ['Name', 'Price']\n",
    "    thewriter.writerow(header)\n",
    "\n",
    "    for list in lists:\n",
    "        name = list.find('strong', class_=\"product name product-item-name\").text.strip()\n",
    "        price = list.find('span', class_=\"price\").text.strip()\n",
    "        \n",
    "        \n",
    "        info = [name, price]\n",
    "        thewriter.writerow(info)\n",
    "        print(info)"
   ]
  },
  {
   "cell_type": "code",
   "execution_count": null,
   "id": "8dbbd329",
   "metadata": {},
   "outputs": [],
   "source": []
  }
 ],
 "metadata": {
  "kernelspec": {
   "display_name": "Python 3 (ipykernel)",
   "language": "python",
   "name": "python3"
  },
  "language_info": {
   "codemirror_mode": {
    "name": "ipython",
    "version": 3
   },
   "file_extension": ".py",
   "mimetype": "text/x-python",
   "name": "python",
   "nbconvert_exporter": "python",
   "pygments_lexer": "ipython3",
   "version": "3.8.8"
  }
 },
 "nbformat": 4,
 "nbformat_minor": 5
}
