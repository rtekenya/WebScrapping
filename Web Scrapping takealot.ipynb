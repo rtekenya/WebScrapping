{
 "cells": [
  {
   "cell_type": "markdown",
   "id": "e442500c",
   "metadata": {},
   "source": [
    "## Import all the neccessary libraries "
   ]
  },
  {
   "cell_type": "code",
   "execution_count": 1,
   "id": "9605adba-6072-4649-9f6d-5d66c4c26549",
   "metadata": {},
   "outputs": [],
   "source": [
    "from bs4 import BeautifulSoup\n",
    "import requests\n",
    "import pandas as pd"
   ]
  },
  {
   "cell_type": "markdown",
   "id": "fdec6471",
   "metadata": {},
   "source": [
    "## Request the website we will be scrapping and running it with BeautifulSoup"
   ]
  },
  {
   "cell_type": "code",
   "execution_count": 5,
   "id": "ca4c7a68-bc3f-4aed-838e-d1b70ff89c1d",
   "metadata": {},
   "outputs": [],
   "source": [
    "url = 'https://www.takealot.com/all?_sb=1&_r=1&_si=ea489236d0a9f142939b473f1abe5d91&qsearch=ipad%20air%204'\n",
    "page = requests.get(url)\n",
    "soup = BeautifulSoup(page.content, 'html.parser')"
   ]
  },
  {
   "cell_type": "markdown",
   "id": "26894f64-0933-4731-b8dc-51ad4be4538e",
   "metadata": {},
   "source": [
    "## Getting the table"
   ]
  },
  {
   "cell_type": "code",
   "execution_count": 7,
   "id": "c758f2ca-df93-495a-b510-56df66d83b7b",
   "metadata": {},
   "outputs": [
    {
     "name": "stdout",
     "output_type": "stream",
     "text": [
      "None\n"
     ]
    }
   ],
   "source": [
    "table = soup.find('div', {'class': 'cell small-3'})\n",
    "print(table)"
   ]
  },
  {
   "cell_type": "code",
   "execution_count": null,
   "id": "b5e76c20-1dab-473a-a35f-b1326c35097a",
   "metadata": {},
   "outputs": [],
   "source": [
    "headers = []\n",
    "for i in table.find_all('th'):\n",
    "    title = i.text\n",
    "    headers.append(title)"
   ]
  },
  {
   "cell_type": "code",
   "execution_count": null,
   "id": "682ab2a2-e53c-4460-a439-4eeb73b29eea",
   "metadata": {},
   "outputs": [],
   "source": [
    "df = pd.DataFrame(columns=headers)"
   ]
  },
  {
   "cell_type": "code",
   "execution_count": null,
   "id": "03ce325c-5b12-40f9-84d6-eab3861f6610",
   "metadata": {},
   "outputs": [],
   "source": [
    "for row in table.find_all('tr')[1:]:\n",
    "    data = row.find_all('td')\n",
    "    row_data = [td.text for td in data]\n",
    "    lenght = len(df)\n",
    "    df.loc[lenght] = row_data"
   ]
  },
  {
   "cell_type": "code",
   "execution_count": null,
   "id": "ff5cec75-1826-400e-8f08-8ffb1aa3d615",
   "metadata": {},
   "outputs": [],
   "source": [
    "df.head(10)"
   ]
  },
  {
   "cell_type": "code",
   "execution_count": null,
   "id": "ae003588-78c0-4131-a546-de257358aaf7",
   "metadata": {},
   "outputs": [],
   "source": [
    "df.to_csv('fantasyEPL2021.csv', index=False)"
   ]
  },
  {
   "cell_type": "code",
   "execution_count": null,
   "id": "5b880174-a7e0-412b-9523-fab9964a20e1",
   "metadata": {},
   "outputs": [],
   "source": []
  }
 ],
 "metadata": {
  "kernelspec": {
   "display_name": "Python 3 (ipykernel)",
   "language": "python",
   "name": "python3"
  },
  "language_info": {
   "codemirror_mode": {
    "name": "ipython",
    "version": 3
   },
   "file_extension": ".py",
   "mimetype": "text/x-python",
   "name": "python",
   "nbconvert_exporter": "python",
   "pygments_lexer": "ipython3",
   "version": "3.8.8"
  }
 },
 "nbformat": 4,
 "nbformat_minor": 5
}
