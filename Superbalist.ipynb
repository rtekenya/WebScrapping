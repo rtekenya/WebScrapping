{
 "cells": [
  {
   "cell_type": "code",
   "execution_count": 4,
   "id": "f18ce3ed",
   "metadata": {},
   "outputs": [],
   "source": [
    "from bs4 import BeautifulSoup\n",
    "import requests\n",
    "from csv import writer\n",
    "\n",
    "url= \"https://superbalist.com/browse/men/shoes/sneakers?designer_s%5B0%5D=adidas-originals&page=2\"\n",
    "page = requests.get(url)\n",
    "\n",
    "soup = BeautifulSoup(page.content, 'html.parser')\n",
    "lists = soup.find_all('div', class_=\"bucket bucket-product-with-details bucket-product-with-attributes\")\n",
    "\n",
    "with open('adidas.csv', 'w', encoding='utf8', newline='') as f:\n",
    "    thewriter = writer(f)\n",
    "    header = ['Name', 'Price']\n",
    "    thewriter.writerow(header)\n",
    "\n",
    "    for list in lists:\n",
    "        name = list.find('h4', class_=\"product-title\").text.strip()\n",
    "        price = list.find('span', class_=\"price\").text.strip()\n",
    "        \n",
    "        \n",
    "        info = [name, price]\n",
    "        thewriter.writerow(info)"
   ]
  },
  {
   "cell_type": "code",
   "execution_count": null,
   "id": "ccc0c1ef",
   "metadata": {},
   "outputs": [],
   "source": []
  }
 ],
 "metadata": {
  "kernelspec": {
   "display_name": "Python 3 (ipykernel)",
   "language": "python",
   "name": "python3"
  },
  "language_info": {
   "codemirror_mode": {
    "name": "ipython",
    "version": 3
   },
   "file_extension": ".py",
   "mimetype": "text/x-python",
   "name": "python",
   "nbconvert_exporter": "python",
   "pygments_lexer": "ipython3",
   "version": "3.8.8"
  }
 },
 "nbformat": 4,
 "nbformat_minor": 5
}
