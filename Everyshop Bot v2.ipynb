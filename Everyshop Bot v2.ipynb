{
 "cells": [
  {
   "cell_type": "markdown",
   "id": "f29b567d",
   "metadata": {},
   "source": [
    "## User Input"
   ]
  },
  {
   "cell_type": "code",
   "execution_count": 1,
   "id": "50be078e",
   "metadata": {},
   "outputs": [],
   "source": [
    "# In this case my input was \"ipad air\"\n",
    "product = 'ipad air 4'"
   ]
  },
  {
   "cell_type": "markdown",
   "id": "9de638b2",
   "metadata": {},
   "source": [
    "## Importing all the necessary libraries and drivers"
   ]
  },
  {
   "cell_type": "code",
   "execution_count": 2,
   "id": "5903873b",
   "metadata": {},
   "outputs": [],
   "source": [
    "# make sure the downloaded driver is in the sale file as the code you writing otherwise it won't be excecuted \n",
    "from selenium import webdriver\n",
    "from bs4 import BeautifulSoup\n",
    "import pandas as pd\n",
    "import time\n",
    "from selenium.webdriver.common.keys import Keys"
   ]
  },
  {
   "cell_type": "code",
   "execution_count": 3,
   "id": "9fbb6943",
   "metadata": {},
   "outputs": [
    {
     "name": "stderr",
     "output_type": "stream",
     "text": [
      "C:\\Users\\PC\\AppData\\Local\\Temp/ipykernel_1552/1637681974.py:4: DeprecationWarning: executable_path has been deprecated, please pass in a Service object\n",
      "  driver = webdriver.Chrome('./chromedriver')\n"
     ]
    }
   ],
   "source": [
    "# Opens up a Chrome browser using the driver you should have downloaded from the Selenium, and goes to takealot.com\n",
    "# Selenium also offers drivers for Safari and Firefoxas mentioned in their website \n",
    "\n",
    "driver = webdriver.Chrome('./chromedriver')\n",
    "driver.get('https://www.everyshop.co.za/')\n"
   ]
  },
  {
   "cell_type": "code",
   "execution_count": 4,
   "id": "10742d4e",
   "metadata": {},
   "outputs": [
    {
     "name": "stderr",
     "output_type": "stream",
     "text": [
      "C:\\Users\\PC\\AppData\\Local\\Temp/ipykernel_1552/3539599305.py:5: DeprecationWarning: find_element_by_* commands are deprecated. Please use find_element() instead\n",
      "  input_box = driver.find_element_by_xpath('//*[@id=\"search\"]')\n"
     ]
    }
   ],
   "source": [
    "# This chunk of code will find the search box on the everyday home page and input the the product you specified in code line 1\n",
    "# If the browser is half screen (minimized) after opening auntomatically, maximize the open browser and run the code if neccessary \n",
    "\n",
    "#input_box = driver.find_element_by_xpath('/html/body/div[1]/header/div/div[1]/div[2]/div/form/div[2]/div[1]/input')\n",
    "input_box = driver.find_element_by_xpath('//*[@id=\"search\"]')\n",
    "input_box.send_keys(product)\n",
    "input_box.send_keys(Keys.ENTER)\n",
    "time.sleep(2)"
   ]
  },
  {
   "cell_type": "code",
   "execution_count": 5,
   "id": "55d2e483",
   "metadata": {},
   "outputs": [
    {
     "ename": "KeyboardInterrupt",
     "evalue": "",
     "output_type": "error",
     "traceback": [
      "\u001b[1;31m---------------------------------------------------------------------------\u001b[0m",
      "\u001b[1;31mKeyboardInterrupt\u001b[0m                         Traceback (most recent call last)",
      "\u001b[1;32m~\\AppData\\Local\\Temp/ipykernel_1552/1397432953.py\u001b[0m in \u001b[0;36m<module>\u001b[1;34m\u001b[0m\n\u001b[0;32m      4\u001b[0m \u001b[1;32mwhile\u001b[0m \u001b[1;32mTrue\u001b[0m\u001b[1;33m:\u001b[0m\u001b[1;33m\u001b[0m\u001b[1;33m\u001b[0m\u001b[0m\n\u001b[0;32m      5\u001b[0m     \u001b[1;31m#BeautifulSoup will get the HTML of the webpage on everyday\u001b[0m\u001b[1;33m\u001b[0m\u001b[1;33m\u001b[0m\u001b[1;33m\u001b[0m\u001b[0m\n\u001b[1;32m----> 6\u001b[1;33m     \u001b[0msoup\u001b[0m \u001b[1;33m=\u001b[0m \u001b[0mBeautifulSoup\u001b[0m\u001b[1;33m(\u001b[0m\u001b[0mdriver\u001b[0m\u001b[1;33m.\u001b[0m\u001b[0mpage_source\u001b[0m\u001b[1;33m,\u001b[0m \u001b[1;34m'lxml'\u001b[0m\u001b[1;33m)\u001b[0m\u001b[1;33m\u001b[0m\u001b[1;33m\u001b[0m\u001b[0m\n\u001b[0m\u001b[0;32m      7\u001b[0m     \u001b[1;31m#Postings contain only the HTML of each product posting on the takealot page\u001b[0m\u001b[1;33m\u001b[0m\u001b[1;33m\u001b[0m\u001b[1;33m\u001b[0m\u001b[0m\n\u001b[0;32m      8\u001b[0m     \u001b[0mpostings\u001b[0m \u001b[1;33m=\u001b[0m \u001b[0msoup\u001b[0m\u001b[1;33m.\u001b[0m\u001b[0mfind_all\u001b[0m\u001b[1;33m(\u001b[0m\u001b[1;34m'div'\u001b[0m\u001b[1;33m,\u001b[0m\u001b[1;33m{\u001b[0m\u001b[1;34m'class'\u001b[0m\u001b[1;33m:\u001b[0m\u001b[1;34m'product-item-info'\u001b[0m\u001b[1;33m}\u001b[0m\u001b[1;33m)\u001b[0m\u001b[1;33m\u001b[0m\u001b[1;33m\u001b[0m\u001b[0m\n",
      "\u001b[1;32m~\\anaconda3\\lib\\site-packages\\bs4\\__init__.py\u001b[0m in \u001b[0;36m__init__\u001b[1;34m(self, markup, features, builder, parse_only, from_encoding, exclude_encodings, element_classes, **kwargs)\u001b[0m\n\u001b[0;32m    360\u001b[0m             \u001b[0mself\u001b[0m\u001b[1;33m.\u001b[0m\u001b[0mreset\u001b[0m\u001b[1;33m(\u001b[0m\u001b[1;33m)\u001b[0m\u001b[1;33m\u001b[0m\u001b[1;33m\u001b[0m\u001b[0m\n\u001b[0;32m    361\u001b[0m             \u001b[1;32mtry\u001b[0m\u001b[1;33m:\u001b[0m\u001b[1;33m\u001b[0m\u001b[1;33m\u001b[0m\u001b[0m\n\u001b[1;32m--> 362\u001b[1;33m                 \u001b[0mself\u001b[0m\u001b[1;33m.\u001b[0m\u001b[0m_feed\u001b[0m\u001b[1;33m(\u001b[0m\u001b[1;33m)\u001b[0m\u001b[1;33m\u001b[0m\u001b[1;33m\u001b[0m\u001b[0m\n\u001b[0m\u001b[0;32m    363\u001b[0m                 \u001b[0msuccess\u001b[0m \u001b[1;33m=\u001b[0m \u001b[1;32mTrue\u001b[0m\u001b[1;33m\u001b[0m\u001b[1;33m\u001b[0m\u001b[0m\n\u001b[0;32m    364\u001b[0m                 \u001b[1;32mbreak\u001b[0m\u001b[1;33m\u001b[0m\u001b[1;33m\u001b[0m\u001b[0m\n",
      "\u001b[1;32m~\\anaconda3\\lib\\site-packages\\bs4\\__init__.py\u001b[0m in \u001b[0;36m_feed\u001b[1;34m(self)\u001b[0m\n\u001b[0;32m    446\u001b[0m         \u001b[0mself\u001b[0m\u001b[1;33m.\u001b[0m\u001b[0mbuilder\u001b[0m\u001b[1;33m.\u001b[0m\u001b[0mreset\u001b[0m\u001b[1;33m(\u001b[0m\u001b[1;33m)\u001b[0m\u001b[1;33m\u001b[0m\u001b[1;33m\u001b[0m\u001b[0m\n\u001b[0;32m    447\u001b[0m \u001b[1;33m\u001b[0m\u001b[0m\n\u001b[1;32m--> 448\u001b[1;33m         \u001b[0mself\u001b[0m\u001b[1;33m.\u001b[0m\u001b[0mbuilder\u001b[0m\u001b[1;33m.\u001b[0m\u001b[0mfeed\u001b[0m\u001b[1;33m(\u001b[0m\u001b[0mself\u001b[0m\u001b[1;33m.\u001b[0m\u001b[0mmarkup\u001b[0m\u001b[1;33m)\u001b[0m\u001b[1;33m\u001b[0m\u001b[1;33m\u001b[0m\u001b[0m\n\u001b[0m\u001b[0;32m    449\u001b[0m         \u001b[1;31m# Close out any unfinished strings and close all the open tags.\u001b[0m\u001b[1;33m\u001b[0m\u001b[1;33m\u001b[0m\u001b[1;33m\u001b[0m\u001b[0m\n\u001b[0;32m    450\u001b[0m         \u001b[0mself\u001b[0m\u001b[1;33m.\u001b[0m\u001b[0mendData\u001b[0m\u001b[1;33m(\u001b[0m\u001b[1;33m)\u001b[0m\u001b[1;33m\u001b[0m\u001b[1;33m\u001b[0m\u001b[0m\n",
      "\u001b[1;32m~\\anaconda3\\lib\\site-packages\\bs4\\builder\\_lxml.py\u001b[0m in \u001b[0;36mfeed\u001b[1;34m(self, markup)\u001b[0m\n\u001b[0;32m    332\u001b[0m         \u001b[1;32mtry\u001b[0m\u001b[1;33m:\u001b[0m\u001b[1;33m\u001b[0m\u001b[1;33m\u001b[0m\u001b[0m\n\u001b[0;32m    333\u001b[0m             \u001b[0mself\u001b[0m\u001b[1;33m.\u001b[0m\u001b[0mparser\u001b[0m \u001b[1;33m=\u001b[0m \u001b[0mself\u001b[0m\u001b[1;33m.\u001b[0m\u001b[0mparser_for\u001b[0m\u001b[1;33m(\u001b[0m\u001b[0mencoding\u001b[0m\u001b[1;33m)\u001b[0m\u001b[1;33m\u001b[0m\u001b[1;33m\u001b[0m\u001b[0m\n\u001b[1;32m--> 334\u001b[1;33m             \u001b[0mself\u001b[0m\u001b[1;33m.\u001b[0m\u001b[0mparser\u001b[0m\u001b[1;33m.\u001b[0m\u001b[0mfeed\u001b[0m\u001b[1;33m(\u001b[0m\u001b[0mmarkup\u001b[0m\u001b[1;33m)\u001b[0m\u001b[1;33m\u001b[0m\u001b[1;33m\u001b[0m\u001b[0m\n\u001b[0m\u001b[0;32m    335\u001b[0m             \u001b[0mself\u001b[0m\u001b[1;33m.\u001b[0m\u001b[0mparser\u001b[0m\u001b[1;33m.\u001b[0m\u001b[0mclose\u001b[0m\u001b[1;33m(\u001b[0m\u001b[1;33m)\u001b[0m\u001b[1;33m\u001b[0m\u001b[1;33m\u001b[0m\u001b[0m\n\u001b[0;32m    336\u001b[0m         \u001b[1;32mexcept\u001b[0m \u001b[1;33m(\u001b[0m\u001b[0mUnicodeDecodeError\u001b[0m\u001b[1;33m,\u001b[0m \u001b[0mLookupError\u001b[0m\u001b[1;33m,\u001b[0m \u001b[0metree\u001b[0m\u001b[1;33m.\u001b[0m\u001b[0mParserError\u001b[0m\u001b[1;33m)\u001b[0m \u001b[1;32mas\u001b[0m \u001b[0me\u001b[0m\u001b[1;33m:\u001b[0m\u001b[1;33m\u001b[0m\u001b[1;33m\u001b[0m\u001b[0m\n",
      "\u001b[1;32msrc/lxml/parser.pxi\u001b[0m in \u001b[0;36mlxml.etree._FeedParser.feed\u001b[1;34m()\u001b[0m\n",
      "\u001b[1;32msrc/lxml/parser.pxi\u001b[0m in \u001b[0;36mlxml.etree._FeedParser.feed\u001b[1;34m()\u001b[0m\n",
      "\u001b[1;32msrc/lxml/parsertarget.pxi\u001b[0m in \u001b[0;36mlxml.etree._TargetParserContext._handleParseResult\u001b[1;34m()\u001b[0m\n",
      "\u001b[1;32msrc/lxml/parsertarget.pxi\u001b[0m in \u001b[0;36mlxml.etree._TargetParserContext._handleParseResult\u001b[1;34m()\u001b[0m\n",
      "\u001b[1;32msrc/lxml/etree.pyx\u001b[0m in \u001b[0;36mlxml.etree._ExceptionContext._raise_if_stored\u001b[1;34m()\u001b[0m\n",
      "\u001b[1;32msrc/lxml/saxparser.pxi\u001b[0m in \u001b[0;36mlxml.etree._handleSaxTargetStartNoNs\u001b[1;34m()\u001b[0m\n",
      "\u001b[1;32msrc/lxml/saxparser.pxi\u001b[0m in \u001b[0;36mlxml.etree._callTargetSaxStart\u001b[1;34m()\u001b[0m\n",
      "\u001b[1;32msrc/lxml/parsertarget.pxi\u001b[0m in \u001b[0;36mlxml.etree._PythonSaxParserTarget._handleSaxStart\u001b[1;34m()\u001b[0m\n",
      "\u001b[1;32m~\\anaconda3\\lib\\site-packages\\bs4\\builder\\_lxml.py\u001b[0m in \u001b[0;36mstart\u001b[1;34m(self, name, attrs, nsmap)\u001b[0m\n\u001b[0;32m    221\u001b[0m         \u001b[0mself\u001b[0m\u001b[1;33m.\u001b[0m\u001b[0mnsmaps\u001b[0m \u001b[1;33m=\u001b[0m \u001b[1;33m[\u001b[0m\u001b[0mself\u001b[0m\u001b[1;33m.\u001b[0m\u001b[0mDEFAULT_NSMAPS_INVERTED\u001b[0m\u001b[1;33m]\u001b[0m\u001b[1;33m\u001b[0m\u001b[1;33m\u001b[0m\u001b[0m\n\u001b[0;32m    222\u001b[0m \u001b[1;33m\u001b[0m\u001b[0m\n\u001b[1;32m--> 223\u001b[1;33m     \u001b[1;32mdef\u001b[0m \u001b[0mstart\u001b[0m\u001b[1;33m(\u001b[0m\u001b[0mself\u001b[0m\u001b[1;33m,\u001b[0m \u001b[0mname\u001b[0m\u001b[1;33m,\u001b[0m \u001b[0mattrs\u001b[0m\u001b[1;33m,\u001b[0m \u001b[0mnsmap\u001b[0m\u001b[1;33m=\u001b[0m\u001b[1;33m{\u001b[0m\u001b[1;33m}\u001b[0m\u001b[1;33m)\u001b[0m\u001b[1;33m:\u001b[0m\u001b[1;33m\u001b[0m\u001b[1;33m\u001b[0m\u001b[0m\n\u001b[0m\u001b[0;32m    224\u001b[0m         \u001b[1;31m# Make sure attrs is a mutable dict--lxml may send an immutable dictproxy.\u001b[0m\u001b[1;33m\u001b[0m\u001b[1;33m\u001b[0m\u001b[1;33m\u001b[0m\u001b[0m\n\u001b[0;32m    225\u001b[0m         \u001b[0mattrs\u001b[0m \u001b[1;33m=\u001b[0m \u001b[0mdict\u001b[0m\u001b[1;33m(\u001b[0m\u001b[0mattrs\u001b[0m\u001b[1;33m)\u001b[0m\u001b[1;33m\u001b[0m\u001b[1;33m\u001b[0m\u001b[0m\n",
      "\u001b[1;31mKeyboardInterrupt\u001b[0m: "
     ]
    }
   ],
   "source": [
    "#Creates an empty dataframe where the product information will go\n",
    "df = pd.DataFrame({'Link':[''],'Name':[''], 'Price':[''], 'Rating':['']})\n",
    "\n",
    "while True:\n",
    "    #BeautifulSoup will get the HTML of the webpage on everyday\n",
    "    soup = BeautifulSoup(driver.page_source, 'lxml')\n",
    "    #Postings contain only the HTML of each product posting on the takealot page\n",
    "    postings = soup.find_all('div',{'class':'product-item-info'})\n",
    "\n",
    "    #This loop will then go through the HTML of each posting and find the link, name, price, and ratings for each product\n",
    "    for post in postings:\n",
    "        try:\n",
    "            link = post.find('a', class_ = 'product photo product-item-photo').get('href')\n",
    "            link_full = 'https://www.everyshop.co.za'+ link\n",
    "            try:\n",
    "                name = post.find('a', class_ = 'product-item-link').text.rstrip()\n",
    "            except:\n",
    "                name = post.find('strong', class_ = 'product name product-item-name').text.rstrip()\n",
    "            price = post.find('span', class_ = 'price').text\n",
    "            rating = post.find('style')\n",
    "            #The link, name, price and ratings for each product is added to our dataframe \n",
    "            df = df.append({'Link':link_full,'Name':name, 'Price':price, 'Rating':rating,\n",
    "                            }, ignore_index = True) \n",
    "        #If a product does not have any of the above the code will go around it\n",
    "        except:\n",
    "            pass "
   ]
  },
  {
   "cell_type": "code",
   "execution_count": 6,
   "id": "602ac3cc",
   "metadata": {},
   "outputs": [
    {
     "name": "stdout",
     "output_type": "stream",
     "text": [
      "                                                   Link  \\\n",
      "0                                                         \n",
      "1     https://www.everyshop.co.zahttps://www.everysh...   \n",
      "2     https://www.everyshop.co.zahttps://www.everysh...   \n",
      "3     https://www.everyshop.co.zahttps://www.everysh...   \n",
      "4     https://www.everyshop.co.zahttps://www.everysh...   \n",
      "...                                                 ...   \n",
      "4382  https://www.everyshop.co.zahttps://www.everysh...   \n",
      "4383  https://www.everyshop.co.zahttps://www.everysh...   \n",
      "4384  https://www.everyshop.co.zahttps://www.everysh...   \n",
      "4385  https://www.everyshop.co.zahttps://www.everysh...   \n",
      "4386  https://www.everyshop.co.zahttps://www.everysh...   \n",
      "\n",
      "                                                   Name    Price Rating  \n",
      "0                                                                        \n",
      "1     \\nApple iPad Air 4th Gen WiFi Cellular 64GB Green  R12,999   None  \n",
      "2     \\nApple iPad Air 4th Gen WiFi Cellular 64GB Si...  R12,999   None  \n",
      "3     \\nApple iPad Air 4th Gen WiFi Cellular 64GB Sp...  R12,999   None  \n",
      "4             \\nApple iPad 8th Gen WiFi 32GB Space Grey   R5,499   None  \n",
      "...                                                 ...      ...    ...  \n",
      "4382      \\nApple iPad Air 4th Gen WiFi 64GB Space Grey  R10,499   None  \n",
      "4383      \\nApple iPad Air 4th Gen Wi-Fi 256GB Sky Blue  R13,499   None  \n",
      "4384  \\nSpeck Apple iPad Air 10.9 Pro 11 Balance Fol...     R899   None  \n",
      "4385  \\nApple Magic Keyboard for iPad Pro 11-inch 3r...   R5,999   None  \n",
      "4386  \\nBody Glove Apple iPad 10.2 Air 19 Pro 10.5 B...   R1,199   None  \n",
      "\n",
      "[4387 rows x 4 columns]\n"
     ]
    }
   ],
   "source": [
    "print(df)\n",
    "\n",
    "#To get a clearer view of this table, the code below will export it as an excel file, you just have to input the file location you want ti saved\n",
    "#df.to_csv('takelot_Ipad_table.csv')\n"
   ]
  },
  {
   "cell_type": "code",
   "execution_count": 7,
   "id": "bd65c6d6",
   "metadata": {},
   "outputs": [
    {
     "data": {
      "text/html": [
       "<div>\n",
       "<style scoped>\n",
       "    .dataframe tbody tr th:only-of-type {\n",
       "        vertical-align: middle;\n",
       "    }\n",
       "\n",
       "    .dataframe tbody tr th {\n",
       "        vertical-align: top;\n",
       "    }\n",
       "\n",
       "    .dataframe thead th {\n",
       "        text-align: right;\n",
       "    }\n",
       "</style>\n",
       "<table border=\"1\" class=\"dataframe\">\n",
       "  <thead>\n",
       "    <tr style=\"text-align: right;\">\n",
       "      <th></th>\n",
       "      <th>Link</th>\n",
       "      <th>Name</th>\n",
       "      <th>Price</th>\n",
       "      <th>Rating</th>\n",
       "    </tr>\n",
       "  </thead>\n",
       "  <tbody>\n",
       "    <tr>\n",
       "      <th>0</th>\n",
       "      <td></td>\n",
       "      <td></td>\n",
       "      <td></td>\n",
       "      <td></td>\n",
       "    </tr>\n",
       "    <tr>\n",
       "      <th>1</th>\n",
       "      <td>https://www.everyshop.co.zahttps://www.everysh...</td>\n",
       "      <td>\\nApple iPad Air 4th Gen WiFi Cellular 64GB Green</td>\n",
       "      <td>R12,999</td>\n",
       "      <td>None</td>\n",
       "    </tr>\n",
       "    <tr>\n",
       "      <th>2</th>\n",
       "      <td>https://www.everyshop.co.zahttps://www.everysh...</td>\n",
       "      <td>\\nApple iPad Air 4th Gen WiFi Cellular 64GB Si...</td>\n",
       "      <td>R12,999</td>\n",
       "      <td>None</td>\n",
       "    </tr>\n",
       "    <tr>\n",
       "      <th>3</th>\n",
       "      <td>https://www.everyshop.co.zahttps://www.everysh...</td>\n",
       "      <td>\\nApple iPad Air 4th Gen WiFi Cellular 64GB Sp...</td>\n",
       "      <td>R12,999</td>\n",
       "      <td>None</td>\n",
       "    </tr>\n",
       "    <tr>\n",
       "      <th>4</th>\n",
       "      <td>https://www.everyshop.co.zahttps://www.everysh...</td>\n",
       "      <td>\\nApple iPad 8th Gen WiFi 32GB Space Grey</td>\n",
       "      <td>R5,499</td>\n",
       "      <td>None</td>\n",
       "    </tr>\n",
       "  </tbody>\n",
       "</table>\n",
       "</div>"
      ],
      "text/plain": [
       "                                                Link  \\\n",
       "0                                                      \n",
       "1  https://www.everyshop.co.zahttps://www.everysh...   \n",
       "2  https://www.everyshop.co.zahttps://www.everysh...   \n",
       "3  https://www.everyshop.co.zahttps://www.everysh...   \n",
       "4  https://www.everyshop.co.zahttps://www.everysh...   \n",
       "\n",
       "                                                Name    Price Rating  \n",
       "0                                                                     \n",
       "1  \\nApple iPad Air 4th Gen WiFi Cellular 64GB Green  R12,999   None  \n",
       "2  \\nApple iPad Air 4th Gen WiFi Cellular 64GB Si...  R12,999   None  \n",
       "3  \\nApple iPad Air 4th Gen WiFi Cellular 64GB Sp...  R12,999   None  \n",
       "4          \\nApple iPad 8th Gen WiFi 32GB Space Grey   R5,499   None  "
      ]
     },
     "execution_count": 7,
     "metadata": {},
     "output_type": "execute_result"
    }
   ],
   "source": [
    "# Checking our df if it returned everything \n",
    "df.head()"
   ]
  },
  {
   "cell_type": "code",
   "execution_count": 8,
   "id": "3e8680a5-daad-4d61-ab87-85ea4a726e68",
   "metadata": {},
   "outputs": [
    {
     "data": {
      "text/html": [
       "<div>\n",
       "<style scoped>\n",
       "    .dataframe tbody tr th:only-of-type {\n",
       "        vertical-align: middle;\n",
       "    }\n",
       "\n",
       "    .dataframe tbody tr th {\n",
       "        vertical-align: top;\n",
       "    }\n",
       "\n",
       "    .dataframe thead th {\n",
       "        text-align: right;\n",
       "    }\n",
       "</style>\n",
       "<table border=\"1\" class=\"dataframe\">\n",
       "  <thead>\n",
       "    <tr style=\"text-align: right;\">\n",
       "      <th></th>\n",
       "      <th>Link</th>\n",
       "      <th>Name</th>\n",
       "      <th>Price</th>\n",
       "      <th>Rating</th>\n",
       "    </tr>\n",
       "  </thead>\n",
       "  <tbody>\n",
       "    <tr>\n",
       "      <th>4382</th>\n",
       "      <td>https://www.everyshop.co.zahttps://www.everysh...</td>\n",
       "      <td>\\nApple iPad Air 4th Gen WiFi 64GB Space Grey</td>\n",
       "      <td>R10,499</td>\n",
       "      <td>None</td>\n",
       "    </tr>\n",
       "    <tr>\n",
       "      <th>4383</th>\n",
       "      <td>https://www.everyshop.co.zahttps://www.everysh...</td>\n",
       "      <td>\\nApple iPad Air 4th Gen Wi-Fi 256GB Sky Blue</td>\n",
       "      <td>R13,499</td>\n",
       "      <td>None</td>\n",
       "    </tr>\n",
       "    <tr>\n",
       "      <th>4384</th>\n",
       "      <td>https://www.everyshop.co.zahttps://www.everysh...</td>\n",
       "      <td>\\nSpeck Apple iPad Air 10.9 Pro 11 Balance Fol...</td>\n",
       "      <td>R899</td>\n",
       "      <td>None</td>\n",
       "    </tr>\n",
       "    <tr>\n",
       "      <th>4385</th>\n",
       "      <td>https://www.everyshop.co.zahttps://www.everysh...</td>\n",
       "      <td>\\nApple Magic Keyboard for iPad Pro 11-inch 3r...</td>\n",
       "      <td>R5,999</td>\n",
       "      <td>None</td>\n",
       "    </tr>\n",
       "    <tr>\n",
       "      <th>4386</th>\n",
       "      <td>https://www.everyshop.co.zahttps://www.everysh...</td>\n",
       "      <td>\\nBody Glove Apple iPad 10.2 Air 19 Pro 10.5 B...</td>\n",
       "      <td>R1,199</td>\n",
       "      <td>None</td>\n",
       "    </tr>\n",
       "  </tbody>\n",
       "</table>\n",
       "</div>"
      ],
      "text/plain": [
       "                                                   Link  \\\n",
       "4382  https://www.everyshop.co.zahttps://www.everysh...   \n",
       "4383  https://www.everyshop.co.zahttps://www.everysh...   \n",
       "4384  https://www.everyshop.co.zahttps://www.everysh...   \n",
       "4385  https://www.everyshop.co.zahttps://www.everysh...   \n",
       "4386  https://www.everyshop.co.zahttps://www.everysh...   \n",
       "\n",
       "                                                   Name    Price Rating  \n",
       "4382      \\nApple iPad Air 4th Gen WiFi 64GB Space Grey  R10,499   None  \n",
       "4383      \\nApple iPad Air 4th Gen Wi-Fi 256GB Sky Blue  R13,499   None  \n",
       "4384  \\nSpeck Apple iPad Air 10.9 Pro 11 Balance Fol...     R899   None  \n",
       "4385  \\nApple Magic Keyboard for iPad Pro 11-inch 3r...   R5,999   None  \n",
       "4386  \\nBody Glove Apple iPad 10.2 Air 19 Pro 10.5 B...   R1,199   None  "
      ]
     },
     "execution_count": 8,
     "metadata": {},
     "output_type": "execute_result"
    }
   ],
   "source": [
    "df.tail()"
   ]
  },
  {
   "cell_type": "code",
   "execution_count": 9,
   "id": "b72d524a",
   "metadata": {},
   "outputs": [
    {
     "data": {
      "text/html": [
       "<div>\n",
       "<style scoped>\n",
       "    .dataframe tbody tr th:only-of-type {\n",
       "        vertical-align: middle;\n",
       "    }\n",
       "\n",
       "    .dataframe tbody tr th {\n",
       "        vertical-align: top;\n",
       "    }\n",
       "\n",
       "    .dataframe thead th {\n",
       "        text-align: right;\n",
       "    }\n",
       "</style>\n",
       "<table border=\"1\" class=\"dataframe\">\n",
       "  <thead>\n",
       "    <tr style=\"text-align: right;\">\n",
       "      <th></th>\n",
       "      <th>Link</th>\n",
       "      <th>Name</th>\n",
       "      <th>Price</th>\n",
       "      <th>Rating</th>\n",
       "    </tr>\n",
       "  </thead>\n",
       "  <tbody>\n",
       "    <tr>\n",
       "      <th>count</th>\n",
       "      <td>4387</td>\n",
       "      <td>4387</td>\n",
       "      <td>4387</td>\n",
       "      <td>1</td>\n",
       "    </tr>\n",
       "    <tr>\n",
       "      <th>unique</th>\n",
       "      <td>44</td>\n",
       "      <td>44</td>\n",
       "      <td>26</td>\n",
       "      <td>1</td>\n",
       "    </tr>\n",
       "    <tr>\n",
       "      <th>top</th>\n",
       "      <td>https://www.everyshop.co.zahttps://www.everysh...</td>\n",
       "      <td>\\nPhilips Micro Hifi BTB2570</td>\n",
       "      <td>R15,499</td>\n",
       "      <td></td>\n",
       "    </tr>\n",
       "    <tr>\n",
       "      <th>freq</th>\n",
       "      <td>102</td>\n",
       "      <td>102</td>\n",
       "      <td>510</td>\n",
       "      <td>1</td>\n",
       "    </tr>\n",
       "  </tbody>\n",
       "</table>\n",
       "</div>"
      ],
      "text/plain": [
       "                                                     Link  \\\n",
       "count                                                4387   \n",
       "unique                                                 44   \n",
       "top     https://www.everyshop.co.zahttps://www.everysh...   \n",
       "freq                                                  102   \n",
       "\n",
       "                                Name    Price Rating  \n",
       "count                           4387     4387      1  \n",
       "unique                            44       26      1  \n",
       "top     \\nPhilips Micro Hifi BTB2570  R15,499         \n",
       "freq                             102      510      1  "
      ]
     },
     "execution_count": 9,
     "metadata": {},
     "output_type": "execute_result"
    }
   ],
   "source": [
    "df.describe()"
   ]
  },
  {
   "cell_type": "code",
   "execution_count": 10,
   "id": "d22d0e95",
   "metadata": {},
   "outputs": [
    {
     "data": {
      "text/plain": [
       "(4387, 4)"
      ]
     },
     "execution_count": 10,
     "metadata": {},
     "output_type": "execute_result"
    }
   ],
   "source": [
    "df.shape"
   ]
  },
  {
   "cell_type": "code",
   "execution_count": 12,
   "id": "0cd2c997",
   "metadata": {},
   "outputs": [
    {
     "name": "stdout",
     "output_type": "stream",
     "text": [
      "<class 'pandas.core.frame.DataFrame'>\n",
      "RangeIndex: 4387 entries, 0 to 4386\n",
      "Data columns (total 4 columns):\n",
      " #   Column  Non-Null Count  Dtype \n",
      "---  ------  --------------  ----- \n",
      " 0   Link    4387 non-null   object\n",
      " 1   Name    4387 non-null   object\n",
      " 2   Price   4387 non-null   object\n",
      " 3   Rating  1 non-null      object\n",
      "dtypes: object(4)\n",
      "memory usage: 137.2+ KB\n"
     ]
    }
   ],
   "source": [
    "df.info()"
   ]
  },
  {
   "cell_type": "code",
   "execution_count": null,
   "id": "8af3dd29",
   "metadata": {},
   "outputs": [],
   "source": []
  }
 ],
 "metadata": {
  "kernelspec": {
   "display_name": "Python 3 (ipykernel)",
   "language": "python",
   "name": "python3"
  },
  "language_info": {
   "codemirror_mode": {
    "name": "ipython",
    "version": 3
   },
   "file_extension": ".py",
   "mimetype": "text/x-python",
   "name": "python",
   "nbconvert_exporter": "python",
   "pygments_lexer": "ipython3",
   "version": "3.8.12"
  }
 },
 "nbformat": 4,
 "nbformat_minor": 5
}
